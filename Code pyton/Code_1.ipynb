{
 "metadata": {
  "language_info": {
   "codemirror_mode": {
    "name": "ipython",
    "version": 3
   },
   "file_extension": ".py",
   "mimetype": "text/x-python",
   "name": "python",
   "nbconvert_exporter": "python",
   "pygments_lexer": "ipython3",
   "version": "3.8.0-final"
  },
  "orig_nbformat": 2,
  "kernelspec": {
   "name": "python380jvsc74a57bd0e404b59586357c814bc0d3940e75d6763c00a48753b225b81f7716971b8e1741",
   "display_name": "Python 3.8.0 64-bit"
  },
  "metadata": {
   "interpreter": {
    "hash": "e404b59586357c814bc0d3940e75d6763c00a48753b225b81f7716971b8e1741"
   }
  }
 },
 "nbformat": 4,
 "nbformat_minor": 2,
 "cells": [
  {
   "source": [
    "# Diseño naval"
   ],
   "cell_type": "markdown",
   "metadata": {}
  },
  {
   "source": [
    "## Importamos las librerias"
   ],
   "cell_type": "markdown",
   "metadata": {}
  },
  {
   "cell_type": "code",
   "execution_count": 1,
   "metadata": {},
   "outputs": [],
   "source": [
    "import pandas as pd\n",
    "import numpy as np\n",
    "import math"
   ]
  },
  {
   "source": [
    "## Declaramos las variables de entrada"
   ],
   "cell_type": "markdown",
   "metadata": {}
  },
  {
   "cell_type": "code",
   "execution_count": 45,
   "metadata": {},
   "outputs": [
    {
     "output_type": "stream",
     "name": "stdout",
     "text": [
      "ie ya está definida\n"
     ]
    }
   ],
   "source": [
    "#variables de entrada\n",
    "Fn = 0.3        #numero de froude\n",
    "LWL = 74.4\n",
    "Ls = LWL\n",
    "L = Ls\n",
    "B = 12.6\n",
    "Tm = 3.8\n",
    "Ta = 3.8\n",
    "Tpp = 3.8\n",
    "T = Ta\n",
    "LCB = 35.712\n",
    "Cb = 0.501\n",
    "Cm = 0.823\n",
    "Cp = 0.61\n",
    "Cwp = 0.796\n",
    "S = 1168\n",
    "Ss = S\n",
    "Sapp = 2\n",
    "At = 1.3\n",
    "Abt = 5.4\n",
    "Dens_a_s = 1025.9\n",
    "Visc_a_s = (1.188 * ((10)**(-6)))\n",
    "hb = 1.65\n",
    "ie = 36\n",
    "g = 9.8\n",
    "d_bto = 0               # 0\n",
    "C_bto = 0               #[0.003, 0.012]\n",
    "\n",
    "#   Entrada para C13----------------------------------------------------------------------\n",
    "#Aft_form ={\"Afterbody form\":['V-shaped section','Normal section shape','U-shaped section with Hogner stern']}\n",
    "\n",
    "Afterbody_form = input(\"\"\" \n",
    "Ingrese el numero correspodiente para la forma de la popa:\\n\n",
    "0. Prom\n",
    "1. Sección en V\n",
    "2. Sección normal\n",
    "3. Sección en U\n",
    "\\n\n",
    "\"\"\")\n",
    "Afterbody_form = int(Afterbody_form)\n",
    "# Verificar ie -------------------------------------------------------\n",
    "try:\n",
    "    ie\n",
    "except NameError:\n",
    "    ie_test = False\n",
    "    print(\"ie no está definida. será calculada\")\n",
    "else:\n",
    "    ie_test = True\n",
    "    print(\"ie ya está definida\")\n"
   ]
  },
  {
   "source": [
    "## Rango de Aplicabilidad (monocasco) Fn\n",
    "### Usamos la libreria de pandas para crear un dataframe con los datos de la tabla del rango de aplicavilidad para posterirormente interpolar"
   ],
   "cell_type": "markdown",
   "metadata": {}
  },
  {
   "source": [
    "Tabla1 = {\"type of ship\":['Tankers, bulk carriers','Trawler, tugs','Container ships, destroyers','cargo liners','RoRo Ships car ferries'],'Max Fn':[0.24, 0.38, 0.45, 0.3, 0.35], 'Min Cp':[0.73, 0.55, 0.55, 0.56, 0.55],'Max Cp':[0.85, 0.65, 0.67, 0.75, 0.67],'Min L/B':[5.1, 3.9, 6, 5.3, 5.3], 'Max L/B':[7.1, 6.3, 9.5, 8, 8],'Min B/T':[2.4, 2.1, 3, 2.4, 3.2],'Max B/T':[3.2, 3, 4, 4, 4]}\n",
    "\n",
    "Tabla_Rango_aplicabilidad = pd.DataFrame(Tabla1)\n",
    "print('Tabla rango de aplicabilidad \\n\\n')\n",
    "print(Tabla_Rango_aplicabilidad)\n",
    "\n",
    "Tabla3 = {'Cp min':[0.55],'Cp max':[0.85],'L/B min':[3.9],'L/B max':[15],'B/T min':[2.1],'B/T max':[4]}\n",
    "Tabla_3 = pd.DataFrame(Tabla3)\n",
    "\n",
    "#print(Tabla_3)\n",
    "\n"
   ],
   "cell_type": "code",
   "metadata": {},
   "execution_count": 46,
   "outputs": [
    {
     "output_type": "stream",
     "name": "stdout",
     "text": [
      "Tabla rango de aplicabilidad \n\n\n                  type of ship  Max Fn  Min Cp  Max Cp  Min L/B  Max L/B  \\\n0       Tankers, bulk carriers    0.24    0.73    0.85      5.1      7.1   \n1                Trawler, tugs    0.38    0.55    0.65      3.9      6.3   \n2  Container ships, destroyers    0.45    0.55    0.67      6.0      9.5   \n3                 cargo liners    0.30    0.56    0.75      5.3      8.0   \n4       RoRo Ships car ferries    0.35    0.55    0.67      5.3      8.0   \n\n   Min B/T  Max B/T  \n0      2.4      3.2  \n1      2.1      3.0  \n2      3.0      4.0  \n3      2.4      4.0  \n4      3.2      4.0  \n"
     ]
    }
   ]
  },
  {
   "source": [
    "## Calculo de rango de aplicabilidad (Figura 1)\n",
    "### se interpola en la tabla de rango de aplicabilidad con el valor definido de la variable \"Fn\" y \"Tipo de envarcacion\" para obtener las variables : \n",
    "### L/B             B/T             Cp\n"
   ],
   "cell_type": "markdown",
   "metadata": {}
  },
  {
   "source": [
    "# definir para rango dee froude de (0.45 - 0.55)\n",
    "Fn = 0.2\n",
    "#Cp = 20\n",
    "Tabla_aux1 = Tabla_Rango_aplicabilidad\n",
    "def Rango_Aplicabilidad_funtion (Fn, Cp, L, B):\n",
    "    \"\"\"\n",
    "    esta funcion calcula el el Fn maximo y\n",
    "    el tipo de embarcaion a partir de L B y Fn\n",
    "\n",
    "    \"\"\"\n",
    "    \n",
    "\n",
    "    if (Fn >= 0.45) and (Fn < 0.55) :\n",
    "        Fn = 0.55\n",
    "        tos = np.nan\n",
    "        regreso=[Fn,tos]\n",
    "        return regreso\n",
    "    elif Fn >= 0.55:\n",
    "        Fn = Fn\n",
    "        tos = np.nan\n",
    "        regreso=[Fn,tos]\n",
    "        return regreso\n",
    "    else:\n",
    "        # Se definen variables de entrada para la tabla\n",
    "        #Fn = Fn\n",
    "        #Cp = Cp\n",
    "        L_B = L/B\n",
    "        B_T = B/T\n",
    "        print('Variables de entrada a la tabla \\n')\n",
    "        print('Fn = ',Fn,'\\nCp = ', Cp,'\\nL/B = ',L_B,'\\nB/T=',B_T, '\\n\\n')\n",
    "\n",
    "        # Comparamos el Froude\n",
    "        #print(Tabla_Rango_aplicabilidad)\n",
    "        Fn_true = Tabla_Rango_aplicabilidad['Max Fn'] >= Fn\n",
    "        Tabla_aux1 = Tabla_Rango_aplicabilidad.loc[Fn_true] # en esta tabla se irán almacenando las filas en las que vayan encajando las variables\n",
    "        \n",
    "        # comparamos Cp\n",
    "        Cp_max_true = Tabla_aux1['Max Cp'] >= Cp\n",
    "        Tabla_aux1 = Tabla_aux1.loc[Cp_max_true]\n",
    "\n",
    "        Cp_min_true = Tabla_aux1['Min Cp'] <= Cp\n",
    "        Tabla_aux1 = Tabla_aux1.loc[Cp_min_true]\n",
    "\n",
    "        # Comparamos L/B\n",
    "        L_B_max_true = Tabla_aux1['Max L/B']> L_B\n",
    "        Tabla_aux1 = Tabla_aux1.loc[L_B_max_true]\n",
    "\n",
    "        L_B_min_true = Tabla_aux1['Min L/B']< L_B\n",
    "        Tabla_aux1 = Tabla_aux1.loc[L_B_min_true]\n",
    "\n",
    "        # Comparamos B_T\n",
    "        B_T_max_true = Tabla_aux1['Max B/T'] > B_T\n",
    "        Tabla_aux1 = Tabla_aux1.loc[B_T_max_true]\n",
    "\n",
    "        B_T_min_true = Tabla_aux1['Min B/T'] < B_T\n",
    "        Tabla_aux1 = Tabla_aux1.loc[B_T_min_true]\n",
    "\n",
    "        # Seleccionar Fila con mayor Fn\n",
    "        #ordenamos con respecto a fn de mayor a menor la tabla\n",
    "        Tabla_aux1 = Tabla_aux1.sort_values(by=\"Max Fn\", ascending=False)\n",
    "        #print (Tabla_aux1)\n",
    "        #Seleccinamos la primera fila (mayor valor)\n",
    "        Tabla_aux1 = Tabla_aux1.head(1)\n",
    "        if Tabla_aux1.empty == False:\n",
    "            Fn = Tabla_aux1.iloc[0 ,1]\n",
    "            tos = Tabla_aux1.iloc[0,0]\n",
    "            print('valores dentro de los rangos de aplicabilidad')\n",
    "        else:\n",
    "            print('Valores fuera de los rangos de aplicabilidad')\n",
    "            Fn = Fn\n",
    "            tos = np.nan\n",
    "        \n",
    "        #print(Tabla_aux1)       \n",
    "        #print(Fn, tos)\n",
    "        regreso=[Fn,tos]\n",
    "        #print(regreso)\n",
    "        return regreso\n",
    "\n",
    "    # Agregar la seleccion del mayor valor de Fn\n",
    "\n",
    "Rango_Aplicabilidad = Rango_Aplicabilidad_funtion (Fn, Cp, L, B)\n",
    "Fn = float(Rango_Aplicabilidad[0])\n",
    "tipe_of_ship = Rango_Aplicabilidad[1]\n",
    "print('\\n')\n",
    "print('Fn = ',Fn,', Tipo de embarcación = ',tipe_of_ship)\n",
    "#Fn = 0.3\n"
   ],
   "cell_type": "code",
   "metadata": {},
   "execution_count": 47,
   "outputs": [
    {
     "output_type": "stream",
     "name": "stdout",
     "text": [
      "Variables de entrada a la tabla \n\nFn =  0.2 \nCp =  0.61 \nL/B =  5.904761904761905 \nB/T= 3.3157894736842106 \n\n\nvalores dentro de los rangos de aplicabilidad\n\n\nFn =  0.35 , Tipo de embarcación =  RoRo Ships car ferries\n"
     ]
    }
   ]
  },
  {
   "source": [
    "## Calculo de Vs"
   ],
   "cell_type": "markdown",
   "metadata": {}
  },
  {
   "cell_type": "code",
   "execution_count": 48,
   "metadata": {},
   "outputs": [
    {
     "output_type": "stream",
     "name": "stdout",
     "text": [
      "Vs =  9.450777745773095\n"
     ]
    }
   ],
   "source": [
    "def Vs_funtion (Fn,g,Ls):\n",
    "    aux111= g * Ls\n",
    "    aux111 = math.sqrt(aux111)\n",
    "    out = Fn * aux111\n",
    "    return out\n",
    "    \n",
    "Vs = Vs_funtion(Fn,g,Ls)\n",
    "print('Vs = ',Vs)"
   ]
  },
  {
   "source": [
    "## Calculo de Re_s"
   ],
   "cell_type": "markdown",
   "metadata": {}
  },
  {
   "source": [
    "def Re_s_funtion(Vs,Ls,Visc_a_s):\n",
    "    Re_s = Vs * Ls / Visc_a_s\n",
    "    return Re_s\n",
    "    \n",
    "Re_s = Re_s_funtion(Vs,Ls,Visc_a_s)\n",
    "print('Reinold = ',Re_s)"
   ],
   "cell_type": "code",
   "metadata": {},
   "execution_count": 49,
   "outputs": [
    {
     "output_type": "stream",
     "name": "stdout",
     "text": [
      "Reinold =  591866889.1292243\n"
     ]
    }
   ]
  },
  {
   "source": [
    "## Calculo de Cf"
   ],
   "cell_type": "markdown",
   "metadata": {}
  },
  {
   "cell_type": "code",
   "execution_count": 50,
   "metadata": {},
   "outputs": [
    {
     "output_type": "stream",
     "name": "stdout",
     "text": [
      "Cf =  0.0016353044878029655\n"
     ]
    }
   ],
   "source": [
    "def Cf_funtion (Re_s):\n",
    "    Cf = (0.075 / ((np.log10(Re_s) - 2)**2))\n",
    "    return Cf\n",
    "    \n",
    "Cf = Cf_funtion (Re_s)\n",
    "print('Cf = ',Cf)"
   ]
  },
  {
   "source": [
    "## Calculo de Rf"
   ],
   "cell_type": "markdown",
   "metadata": {}
  },
  {
   "cell_type": "code",
   "execution_count": 51,
   "metadata": {},
   "outputs": [
    {
     "output_type": "stream",
     "name": "stdout",
     "text": [
      "Rf =  87508.77521953957\n"
     ]
    }
   ],
   "source": [
    "def Rf_funtion (Cf,Dens_a_s,Ss,Vs):\n",
    "    Rf = Cf*((1/2)*Dens_a_s*Ss*Vs**2)\n",
    "    return Rf\n",
    "    \n",
    "Rf = Rf_funtion(Cf,Dens_a_s,Ss,Vs)\n",
    "print('Rf = ',Rf)"
   ]
  },
  {
   "source": [
    "## Calculo de Lcb"
   ],
   "cell_type": "markdown",
   "metadata": {}
  },
  {
   "cell_type": "code",
   "execution_count": 52,
   "metadata": {},
   "outputs": [
    {
     "output_type": "stream",
     "name": "stdout",
     "text": [
      "Lcb =  0.019999999999999993\n"
     ]
    }
   ],
   "source": [
    "def Lcb_funtion(LCB,Ls):\n",
    "   Lcb = ((Ls/2)-(LCB))/Ls\n",
    "   return Lcb\n",
    "   \n",
    "Lcb = Lcb_funtion(LCB,Ls)\n",
    "print('Lcb = ',Lcb)"
   ]
  },
  {
   "source": [
    "## Calculo de Lr "
   ],
   "cell_type": "markdown",
   "metadata": {}
  },
  {
   "cell_type": "code",
   "execution_count": 53,
   "metadata": {},
   "outputs": [
    {
     "output_type": "stream",
     "name": "stdout",
     "text": [
      "Lr =  29.05382\n"
     ]
    }
   ],
   "source": [
    "def Lr_funtion(L,Cp,Lcb):\n",
    "    Lr = L * ((1 - Cp) + (0.06 * Cp * Lcb) / ((4 * Cp) - 1))\n",
    "    return Lr\n",
    "    \n",
    "Lr = Lr_funtion(L,Cp,Lcb)\n",
    "print('Lr = ',Lr)"
   ]
  },
  {
   "source": [
    "## Calculo de C12"
   ],
   "cell_type": "markdown",
   "metadata": {}
  },
  {
   "cell_type": "code",
   "execution_count": 54,
   "metadata": {},
   "outputs": [
    {
     "output_type": "stream",
     "name": "stdout",
     "text": [
      "C12 =  0.5153849370895515\n"
     ]
    }
   ],
   "source": [
    "def C12_funtion(T,L):\n",
    "    if T/L > 0.05:\n",
    "        C12 = (T/L)**0.2228446\n",
    "    elif 0.02 < T/L <= 0.05:\n",
    "        C12 = 48.20 * ((T/L - 0.02)**2.078) + 0.479948\n",
    "    elif T/L < 0.02:\n",
    "        C12 = 0.479948\n",
    "    return C12\n",
    "\n",
    "C12 = C12_funtion(T,L)\n",
    "print('C12 = ',C12)"
   ]
  },
  {
   "source": [
    "## Calculo de C13"
   ],
   "cell_type": "markdown",
   "metadata": {}
  },
  {
   "cell_type": "code",
   "execution_count": 55,
   "metadata": {},
   "outputs": [
    {
     "output_type": "stream",
     "name": "stdout",
     "text": [
      "C13 =  1.0\n"
     ]
    }
   ],
   "source": [
    "def C13_funtion(Afterbody_form):\n",
    "    if Afterbody_form == 0:\n",
    "        C_stern = -25\n",
    "    elif Afterbody_form == 1:\n",
    "        C_stern = -10\n",
    "    elif Afterbody_form == 2:\n",
    "        C_stern = 0\n",
    "    elif Afterbody_form == 3:\n",
    "        C_stern = 10\n",
    "    \n",
    "    C13 = 1 + (0.003 * C_stern)\n",
    "    return C13\n",
    "    \n",
    "C13 = C13_funtion(Afterbody_form)\n",
    "print('C13 = ',C13)"
   ]
  },
  {
   "source": [
    "## triangulo \n",
    "### preguntar por la variable M en la formula(B)"
   ],
   "cell_type": "markdown",
   "metadata": {}
  },
  {
   "cell_type": "code",
   "execution_count": 56,
   "metadata": {},
   "outputs": [
    {
     "output_type": "stream",
     "name": "stdout",
     "text": [
      "Volumen =  1784.6982719999999\n"
     ]
    }
   ],
   "source": [
    "def triangulo_funtion(Cb,LWL,T,B):\n",
    "    triangulo = Cb * LWL * T * B\n",
    "    return triangulo\n",
    "    \n",
    "triangulo = triangulo_funtion(Cb,LWL,T,B)\n",
    "print('Volumen = ',triangulo)"
   ]
  },
  {
   "source": [
    "## Calculo de C14"
   ],
   "cell_type": "markdown",
   "metadata": {}
  },
  {
   "cell_type": "code",
   "execution_count": 57,
   "metadata": {},
   "outputs": [
    {
     "output_type": "stream",
     "name": "stdout",
     "text": [
      "C14 =  1.0\n"
     ]
    }
   ],
   "source": [
    "def C14_funtion(Afterbody_form):\n",
    "    if Afterbody_form == 0:\n",
    "        C_stern = -25\n",
    "    elif Afterbody_form == 1:\n",
    "        C_stern = -10\n",
    "    elif Afterbody_form == 2:\n",
    "        C_stern = 0\n",
    "    elif Afterbody_form == 3:\n",
    "        C_stern = 10\n",
    "    \n",
    "    C14 = 1 + (0.011 * C_stern)\n",
    "    return C13\n",
    "    \n",
    "C14 = C14_funtion(Afterbody_form)\n",
    "print('C14 = ',C14)"
   ]
  },
  {
   "source": [
    "## Calculo de K + 1"
   ],
   "cell_type": "markdown",
   "metadata": {}
  },
  {
   "source": [
    "## Calculo de prueba Rf * (K+1)"
   ],
   "cell_type": "markdown",
   "metadata": {}
  },
  {
   "cell_type": "code",
   "execution_count": 58,
   "metadata": {},
   "outputs": [
    {
     "output_type": "stream",
     "name": "stdout",
     "text": [
      "K + 1 =  1.1481558321777088\n"
     ]
    }
   ],
   "source": [
    "def K_mas_1_funtion (C13,C12,B,Lr,Lcb,C14,triangulo):\n",
    "    if Fn <= 0.5:\n",
    "\n",
    "        def z_funtion(Lcb,Cp):\n",
    "            z = (1 - Cp + (0.0225 * Lcb))**0.6906\n",
    "            return(z)\n",
    "        def y_funtion(Cp):\n",
    "            y = (0.95 - Cp)**(-0.521448)\n",
    "            return(y)\n",
    "        def x_funtion(C12,B,Lr):\n",
    "            x = C12 * ((B/Lr)**0.92497)\n",
    "            return(x)\n",
    "\n",
    "        z = z_funtion(Lcb,Cp)\n",
    "        y = y_funtion(Cp)\n",
    "        x = x_funtion(C12,B,Lr)\n",
    "        k_1 = C13*(0.93 + x * y * z)\n",
    "        return k_1\n",
    "\n",
    "    else:\n",
    "        def x_funtion(C14,B,L):\n",
    "            x = C14 * (B/L)**1.06806\n",
    "            return(x)\n",
    "        def y_funtion(T,L):\n",
    "            y = (T/L)**0.46106\n",
    "            return(y)\n",
    "        def z_funtion(L,Lr):\n",
    "            z = (L/Lr)**0.121563\n",
    "            return(z)\n",
    "        def a_funtion(L,triangulo):\n",
    "            a = ( (L**3) / triangulo )**0.36486\n",
    "            return(a)\n",
    "        def b_funtion(Cp):\n",
    "            b = (1 + Cp)**(-0.604247)\n",
    "            return b\n",
    "\n",
    "        z = z_funtion(L,Lr)\n",
    "        y = y_funtion(T,L)\n",
    "        x = x_funtion(C14,B,L)\n",
    "        a = a_funtion(L,triangulo)\n",
    "        b = b_funtion(Cp)\n",
    "        k_1 = 0.93 + (0.48711 * x * y * z * a *b)\n",
    "        return k_1\n",
    "        \n",
    "K_mas_1 = K_mas_1_funtion (C13,C12,B,Lr,Lcb,C14,triangulo)\n",
    "print('K + 1 = ',K_mas_1)"
   ]
  },
  {
   "source": [
    "## Prueba K_mas1 * Rf"
   ],
   "cell_type": "markdown",
   "metadata": {}
  },
  {
   "cell_type": "code",
   "execution_count": 59,
   "metadata": {},
   "outputs": [
    {
     "output_type": "stream",
     "name": "stdout",
     "text": [
      "Rf * (k+1) =  100473.71063504252\n"
     ]
    }
   ],
   "source": [
    "def prueba_Rf(K_mas_1, Rf):\n",
    "    x = K_mas_1 * Rf\n",
    "    return x\n",
    "    \n",
    "x = prueba_Rf(K_mas_1, Rf)\n",
    "print('Rf * (k+1) = ',x)"
   ]
  },
  {
   "source": [
    "# Calculo de Rw"
   ],
   "cell_type": "markdown",
   "metadata": {}
  },
  {
   "source": [
    "## C7"
   ],
   "cell_type": "markdown",
   "metadata": {}
  },
  {
   "cell_type": "code",
   "execution_count": 60,
   "metadata": {},
   "outputs": [
    {
     "output_type": "stream",
     "name": "stdout",
     "text": [
      "C7 =  0.1693548387096774\n"
     ]
    }
   ],
   "source": [
    "def C7_funtion(L,B):\n",
    "    B_L = B/L\n",
    "    if B_L < 0.11:\n",
    "        C7 = 0.229577 * (B_L**0.33333)\n",
    "    elif B_L >= 0.11 and B_L <= 0.25:\n",
    "        C7 = B_L\n",
    "    elif B_L > 0.25 :\n",
    "        C7 = 0.5 - 0.0625*(L/B)\n",
    "    return C7\n",
    "    \n",
    "C7 = C7_funtion(L,B)\n",
    "print('C7 = ', C7)"
   ]
  },
  {
   "source": [
    "## C15"
   ],
   "cell_type": "markdown",
   "metadata": {}
  },
  {
   "cell_type": "code",
   "execution_count": 61,
   "metadata": {},
   "outputs": [
    {
     "output_type": "stream",
     "name": "stdout",
     "text": [
      "C15 =  -1.69385\n"
     ]
    }
   ],
   "source": [
    "def C15_funtion(L,triangulo):\n",
    "    n = (L ** 3)/triangulo\n",
    "    if n < 512 :\n",
    "        C15 = -1.69385\n",
    "    elif n > 1727:\n",
    "        C15 = 0\n",
    "    else:\n",
    "        C15 = -1.69385 + ((L/(triangulo ** (1/3)))-0.8) / 2.36\n",
    "    return C15\n",
    "    \n",
    "C15 = C15_funtion(L,triangulo)\n",
    "print('C15 = ',C15)"
   ]
  },
  {
   "source": [
    "## M3"
   ],
   "cell_type": "markdown",
   "metadata": {}
  },
  {
   "cell_type": "code",
   "execution_count": 62,
   "metadata": {},
   "outputs": [
    {
     "output_type": "stream",
     "name": "stdout",
     "text": [
      "M3 =  -1.9512417614963944\n"
     ]
    }
   ],
   "source": [
    "def M3_funtion(B,L,T):\n",
    "    M3 = -7.2035 * ((B/L)**0.326869) * ( (T/B)**0.605375 )\n",
    "    return M3\n",
    "    \n",
    "M3 = M3_funtion(B,L,T)\n",
    "print('M3 = ',M3)"
   ]
  },
  {
   "source": [
    "## M4 "
   ],
   "cell_type": "markdown",
   "metadata": {}
  },
  {
   "cell_type": "code",
   "execution_count": 63,
   "metadata": {},
   "outputs": [
    {
     "output_type": "stream",
     "name": "stdout",
     "text": [
      "M4 =  -0.23119331997873857\n"
     ]
    }
   ],
   "source": [
    "def M4_funtion(C15, Fn):\n",
    "    M4 = C15 * 0.4 * math.exp(-0.034*(Fn ** (-3.29)))\n",
    "    return M4\n",
    "    \n",
    "M4 = M4_funtion(C15, Fn)\n",
    "print('M4 = ',M4)"
   ]
  },
  {
   "source": [
    "## C16"
   ],
   "cell_type": "markdown",
   "metadata": {}
  },
  {
   "cell_type": "code",
   "execution_count": 64,
   "metadata": {},
   "outputs": [
    {
     "output_type": "stream",
     "name": "stdout",
     "text": [
      "C16 =  1.3539851426280003\n"
     ]
    }
   ],
   "source": [
    "def C16_funtion(Cp):\n",
    "    if Cp < 0.8:\n",
    "        C16 = 8.07981 * Cp - 13.8673 * (Cp ** 2) + 6.984388 * (Cp ** 3)\n",
    "    else:\n",
    "        C16 = 1.73014 - 0.7067 * Cp\n",
    "    return C16\n",
    "    \n",
    "C16 =C16_funtion(Cp)\n",
    "print('C16 = ',C16)"
   ]
  },
  {
   "source": [
    "## C17"
   ],
   "cell_type": "markdown",
   "metadata": {}
  },
  {
   "cell_type": "code",
   "execution_count": 65,
   "metadata": {},
   "outputs": [
    {
     "output_type": "stream",
     "name": "stdout",
     "text": [
      "C17 =  0.15979880197321605\n"
     ]
    }
   ],
   "source": [
    "def C17_funtion(Cm,triangulo,L):\n",
    "    C17 = 6919.3 * (Cm**(-1.3346)) * ( ( triangulo/(L**3) )**2.00977)\n",
    "    return C17\n",
    "    \n",
    "C17 =  C17_funtion(Cm,triangulo,L)\n",
    "print('C17 = ',C17)"
   ]
  },
  {
   "source": [
    "## M1"
   ],
   "cell_type": "markdown",
   "metadata": {}
  },
  {
   "cell_type": "code",
   "execution_count": 66,
   "metadata": {},
   "outputs": [
    {
     "output_type": "stream",
     "name": "stdout",
     "text": [
      "M1 =  -2.1765658260300955\n"
     ]
    }
   ],
   "source": [
    "def M1_funtion(L,T,triangulo,B,C16):\n",
    "    M1 = 0.0140407 * (L/T) - (1.75254 * (triangulo**(1/3))/L) - 4.79323 * (B/L) - C16\n",
    "    return M1\n",
    "    \n",
    "M1 = M1_funtion(L,T,triangulo,B,C16)\n",
    "print('M1 = ',M1)"
   ]
  },
  {
   "source": [
    "## Lamda"
   ],
   "cell_type": "markdown",
   "metadata": {}
  },
  {
   "cell_type": "code",
   "execution_count": 67,
   "metadata": {},
   "outputs": [
    {
     "output_type": "stream",
     "name": "stdout",
     "text": [
      "Lambda =  0.7049171428571428\n"
     ]
    }
   ],
   "source": [
    "def Lamda_funtion(L,B,Cp):\n",
    "    L_B = L/B\n",
    "    if L_B < 12 :\n",
    "        Lamda = 1.446 * Cp - 0.03 * L_B\n",
    "    elif L_B >= 12:\n",
    "        Lamda = 1.446 * Cp - 0.36\n",
    "    return Lamda\n",
    "    \n",
    "Lamda = Lamda_funtion(L,B,Cp)\n",
    "print('Lambda = ',Lamda)"
   ]
  },
  {
   "source": [
    "## C5"
   ],
   "cell_type": "markdown",
   "metadata": {}
  },
  {
   "cell_type": "code",
   "execution_count": 68,
   "metadata": {},
   "outputs": [
    {
     "output_type": "stream",
     "name": "stdout",
     "text": [
      "C5 =  0.9736075709727945\n"
     ]
    }
   ],
   "source": [
    "def C5_funtion(At,B,T,Cm):\n",
    "    C5 =1 - ((0.8 * At))/(B * T * Cm)\n",
    "    return C5\n",
    "    \n",
    "C5 = C5_funtion(At,B,T,Cm)\n",
    "print('C5 = ',C5)"
   ]
  },
  {
   "source": [
    "## C3"
   ],
   "cell_type": "markdown",
   "metadata": {}
  },
  {
   "cell_type": "code",
   "execution_count": 69,
   "metadata": {},
   "outputs": [
    {
     "output_type": "stream",
     "name": "stdout",
     "text": [
      "C3 =  0.051131190067175085\n"
     ]
    }
   ],
   "source": [
    "def C3_funtion(Abt,B,T,hb):\n",
    "    def x_funtion(Abt):\n",
    "        x = 0.56 *(Abt**1.5)\n",
    "        return x\n",
    "    def y_funtion(B,T,Abt,hb):\n",
    "        y = B * T * (0.31 * (Abt ** (1/2)) + T - hb)\n",
    "        return y\n",
    "    x = x_funtion(Abt)\n",
    "    y = y_funtion(B,T,Abt,hb)\n",
    "\n",
    "    C3 = x/y\n",
    "    return C3\n",
    "\n",
    "C3 = C3_funtion(Abt,B,T,hb)\n",
    "print('C3 = ',C3) "
   ]
  },
  {
   "source": [
    "## C2"
   ],
   "cell_type": "markdown",
   "metadata": {}
  },
  {
   "cell_type": "code",
   "execution_count": 70,
   "metadata": {},
   "outputs": [
    {
     "output_type": "stream",
     "name": "stdout",
     "text": [
      "C2 =  0.6522217220832555\n"
     ]
    }
   ],
   "source": [
    "def C2_funtion(C3):\n",
    "    C2 = math.exp(-1.89 * ((C3)**(1/2)))\n",
    "    return C2\n",
    "\n",
    "C2 = C2_funtion(C3)\n",
    "print('C2 = ',C2)"
   ]
  },
  {
   "source": [
    "## ie"
   ],
   "cell_type": "markdown",
   "metadata": {}
  },
  {
   "cell_type": "code",
   "execution_count": 71,
   "metadata": {},
   "outputs": [
    {
     "output_type": "stream",
     "name": "stdout",
     "text": [
      "ie =  36\n"
     ]
    }
   ],
   "source": [
    "## Define funcion para ie\n",
    "def ie_funtion(L,B,Cwp,Cp,Lcb,Lr,triangulo):\n",
    "\n",
    "    def expo_funtion(L,B,Cwp,Cp,Lcb,Lr,triangulo):\n",
    "        expo = ( -(L/B) ** 0.80856 ) * ( (1 - Cwp) ** 0.30484 ) * (( 1 - Cp - 0.0225 * Lcb) ** 0.6367 ) * ( (Lr/B) ** 0.34574 ) * ((100 * triangulo / (L ** 3)) ** 0.16302)\n",
    "        return expo\n",
    "    expo = expo_funtion(L,B,Cwp,Cp,Lcb,Lr,triangulo)\n",
    "    ie = 1 + 89 * math.exp(expo)\n",
    "    return ie\n",
    "## verifica si se definió, sino, se calcula\n",
    "if ie_test == False:\n",
    "    ie = ie_funtion(L,B,Cwp,Cp,Lcb,Lr,triangulo)\n",
    "\n",
    "print('ie = ',ie)"
   ]
  },
  {
   "source": [
    "## C1"
   ],
   "cell_type": "markdown",
   "metadata": {}
  },
  {
   "cell_type": "code",
   "execution_count": 72,
   "metadata": {},
   "outputs": [
    {
     "output_type": "stream",
     "name": "stdout",
     "text": [
      "C1 =  3.0331166830539567\n"
     ]
    }
   ],
   "source": [
    "def C1_futnion(C7, T,B,ie):\n",
    "    def x_funtion(C7):\n",
    "        x = 2223105 * (C7**3.78613)\n",
    "        return x\n",
    "    def y_funtion(T,B):\n",
    "        y = (T/B)**1.07961\n",
    "        return y\n",
    "    def z_funtion(ie):\n",
    "        z = (90 - ie)**(-1.37565)\n",
    "        return z\n",
    "\n",
    "    x = x_funtion(C7)\n",
    "    y = y_funtion(T,B)\n",
    "    z = z_funtion(ie)\n",
    "\n",
    "    C1 = x*y*z\n",
    "    return C1\n",
    "    \n",
    "C1 = C1_futnion(C7, T,B,ie)\n",
    "print('C1 = ',C1)"
   ]
  },
  {
   "source": [
    "## RW "
   ],
   "cell_type": "markdown",
   "metadata": {}
  },
  {
   "cell_type": "code",
   "execution_count": 73,
   "metadata": {},
   "outputs": [
    {
     "output_type": "stream",
     "name": "stdout",
     "text": [
      "Fn < 0.4\nFn :  0.35\nRw =  104774.3528676393\n"
     ]
    }
   ],
   "source": [
    "# Rw_a-----------------------\n",
    "def Rw_a_funtion(C1,C2,C5,triangulo,Dens_a_s,M1,Fn,M4,Lamda,g):\n",
    "    d = -0.9 \n",
    "    def expo_funtion(Fn,M1,d,M4,Lamda):\n",
    "        expo = (M1 * (Fn**d)) + (M4 * math.cos(Lamda * (Fn**(-2))))     #resultado en radianes del exponente\n",
    "        return expo\n",
    "    expo = expo_funtion(Fn,M1,d,M4,Lamda)\n",
    "    Rw_a = C1 * C2 * C5 * triangulo * Dens_a_s * g * math.exp(expo)       \n",
    "    # -6.5401587 resultado en grados hexadecimales del exponente\n",
    "    return Rw_a\n",
    "# Rw_b -------------------------------------\n",
    "def Rw_b_funtion(C17,C2,C5,triangulo,Dens_a_s,M3,Fn,M4,Lamda):\n",
    "    d = -0.9\n",
    "    def expo_funtion(Fn,M3,d,M4,Lamda):\n",
    "        expo = (M3 * (Fn**d)) + (M4 * math.cos(Lamda * (Fn**(-2))))\n",
    "        return expo\n",
    "    expo = expo_funtion(Fn,M3,d,M4,Lamda)\n",
    "    Rw_b = C17 * C2 * C5 * triangulo * Dens_a_s * g * math.exp(expo)\n",
    "    return Rw_b\n",
    "\n",
    "# Rw-----------------------------------------\n",
    "def Rw_funtion(C1,C2,C5,triangulo,Dens_a_s,M1,Fn,M4,Lamda,g,C17,M3):\n",
    "\n",
    "    if (Fn < 0.4):\n",
    "        Rw = Rw_a_funtion(C1,C2,C5,triangulo,Dens_a_s,M1,Fn,M4,Lamda,g)\n",
    "        print('Fn < 0.4')\n",
    "    elif (Fn >= 0.4) and (Fn <= 0.55):\n",
    "        Rw_a = Rw_a_funtion(C1,C2,C5,triangulo,Dens_a_s,M1,0.4,M4,Lamda,g)\n",
    "        Rw_b = Rw_b_funtion(C17,C2,C5,triangulo,Dens_a_s,M3,0.55,M4,Lamda)\n",
    "\n",
    "        Rw = Rw_a + (10 * Fn - 4) * ((Rw_b - Rw_a)/1.5)         # Rw*\n",
    "        print('0.4 <= Fn <= 0.5')\n",
    "    elif (Fn > 0.5): \n",
    "        Rw = Rw_b_funtion(C17,C2,C5,triangulo,Dens_a_s,M3,Fn,M4,Lamda)\n",
    "        print('Fn > 0.5')\n",
    "    return Rw\n",
    "\n",
    "Rw = Rw_funtion(C1,C2,C5,triangulo,Dens_a_s,M1,Fn,M4,Lamda,g,C17,M3)\n",
    "print('Rw = ',Rw)"
   ]
  },
  {
   "source": [
    "## Rb \n",
    "### Resistencia por bulbo"
   ],
   "cell_type": "markdown",
   "metadata": {}
  },
  {
   "source": [
    "## Pb"
   ],
   "cell_type": "markdown",
   "metadata": {}
  },
  {
   "cell_type": "code",
   "execution_count": 74,
   "metadata": {},
   "outputs": [
    {
     "output_type": "stream",
     "name": "stdout",
     "text": [
      "Pb =  0.9821301164722205\n"
     ]
    }
   ],
   "source": [
    "Tf = T\n",
    "def Pb_funtion(Abt,Tf,hb):\n",
    "    Pb = 0.56 * (Abt ** (1/2)) / (Tf - 1.5 * hb)\n",
    "    return Pb\n",
    "    \n",
    "Pb = Pb_funtion(Abt,Tf,hb)\n",
    "print('Pb = ',Pb)"
   ]
  },
  {
   "source": [
    "## Fn_i"
   ],
   "cell_type": "markdown",
   "metadata": {}
  },
  {
   "cell_type": "code",
   "execution_count": 75,
   "metadata": {},
   "outputs": [
    {
     "output_type": "stream",
     "name": "stdout",
     "text": [
      "Fn_i =  1.761834897456359\n"
     ]
    }
   ],
   "source": [
    "def Fn_i_funtion(Vs,g,Tf,hb,Abt):\n",
    "    Fn_i = Vs / (g*(Tf - hb - 0.25 * (Abt ** 0.5)) + 0.15 * (Vs ** 2)) ** 0.5\n",
    "    return Fn_i\n",
    "    \n",
    "Fn_i = Fn_i_funtion(Vs,g,Tf,hb,Abt)\n",
    "print ('Fn_i = ',Fn_i)"
   ]
  },
  {
   "source": [
    "## Rb"
   ],
   "cell_type": "markdown",
   "metadata": {}
  },
  {
   "cell_type": "code",
   "execution_count": 76,
   "metadata": {},
   "outputs": [
    {
     "output_type": "stream",
     "name": "stdout",
     "text": [
      "Rb =  824.6493953314874\n"
     ]
    }
   ],
   "source": [
    "def Rb_funtion(Pb,Fn_i,Abt,Dens_a_s,g):\n",
    "    Rb = 0.11 * math.exp(-3 * (Pb ** (-2))) * (Fn_i ** 3) * (Abt ** 1.5) * Dens_a_s * g /(1 + (Fn_i ** 2))\n",
    "    return Rb\n",
    "    \n",
    "Rb = Rb_funtion(Pb,Fn_i,Abt,Dens_a_s,g)\n",
    "print ('Rb = ',Rb)"
   ]
  },
  {
   "source": [
    "# Rtr Resistencia por espejo sumergido"
   ],
   "cell_type": "markdown",
   "metadata": {}
  },
  {
   "source": [
    "## Fn_T "
   ],
   "cell_type": "markdown",
   "metadata": {}
  },
  {
   "cell_type": "code",
   "execution_count": 77,
   "metadata": {},
   "outputs": [
    {
     "output_type": "stream",
     "name": "stdout",
     "text": [
      "Fn_t =  8.906483688432134\n"
     ]
    }
   ],
   "source": [
    "def Fn_t_funtion(Vs,g,At,B,Cwp):\n",
    "    Fn_t = Vs / (((2*g*At) / (B+B*Cwp)) ** 0.5)\n",
    "    return Fn_t\n",
    "\n",
    "Fn_t = Fn_t_funtion(Vs,g,At,B,Cwp)\n",
    "print('Fn_t = ',Fn_t)"
   ]
  },
  {
   "source": [
    "## C6 "
   ],
   "cell_type": "markdown",
   "metadata": {}
  },
  {
   "cell_type": "code",
   "execution_count": 78,
   "metadata": {},
   "outputs": [
    {
     "output_type": "stream",
     "name": "stdout",
     "text": [
      "C6 =  0\n"
     ]
    }
   ],
   "source": [
    "def C6_funtion(Fn_t):\n",
    "    if Fn_t < 5:\n",
    "        C6 = 0.2 * (1 - 0.2 * Fn_t)\n",
    "    else:\n",
    "        C6 = 0\n",
    "    return C6\n",
    "\n",
    "C6 = C6_funtion(Fn_t)\n",
    "print('C6 = ',C6)"
   ]
  },
  {
   "source": [
    "## Rtr"
   ],
   "cell_type": "markdown",
   "metadata": {}
  },
  {
   "cell_type": "code",
   "execution_count": 79,
   "metadata": {},
   "outputs": [
    {
     "output_type": "stream",
     "name": "stdout",
     "text": [
      "Rtr =  0.0\n"
     ]
    }
   ],
   "source": [
    "def Rtr_funtion(Dens_a_s,Vs,At,C6):\n",
    "    Rtr = 0.5 * Dens_a_s * (Vs ** 2) * At * C6\n",
    "    return Rtr\n",
    "\n",
    "Rtr = Rtr_funtion(Dens_a_s,Vs,At,C6)\n",
    "print('Rtr = ',Rtr)"
   ]
  },
  {
   "source": [
    "## Ra Resistencia por correlación"
   ],
   "cell_type": "markdown",
   "metadata": {}
  },
  {
   "source": [
    "## C4"
   ],
   "cell_type": "markdown",
   "metadata": {}
  },
  {
   "cell_type": "code",
   "execution_count": 80,
   "metadata": {},
   "outputs": [
    {
     "output_type": "stream",
     "name": "stdout",
     "text": [
      "C4 =  0.04\n"
     ]
    }
   ],
   "source": [
    "Tf = T\n",
    "def C4_funtion(Tf,L):\n",
    "    Tf_L = Tf / L\n",
    "    if Tf_L <= 0.04:\n",
    "        C4 = Tf_L\n",
    "    else:\n",
    "        C4 = 0.04\n",
    "    return C4\n",
    "    \n",
    "C4 = C4_funtion(Tf,L)\n",
    "print('C4 = ',C4)"
   ]
  },
  {
   "source": [
    "## Ca  ¿Se le coloca el incremento ?\n",
    "### al ejercicio no se le coloca incremento"
   ],
   "cell_type": "markdown",
   "metadata": {}
  },
  {
   "cell_type": "code",
   "execution_count": 81,
   "metadata": {},
   "outputs": [
    {
     "output_type": "stream",
     "name": "stdout",
     "text": [
      "Ca =  0.000577264596065536\n"
     ]
    }
   ],
   "source": [
    "def Ca_funtion(L,Cb,C2,C4):\n",
    "    ks = 150\n",
    "    Ca = 0.006 * ((L + 100) ** -0.16) - 0.00205 + 0.003 * ((L/7.5) ** 0.5) * (Cb ** 4) * C2* (0.04 - C4)\n",
    "    # no incluir incremento de de Ca\n",
    "    #incremento = (0.105 * (ks ** (1/3)) - 0.005579) / (L ** (1/3))\n",
    "    Ca_in = Ca \n",
    "    return Ca   # no se coloca el incremento\n",
    "\n",
    "Ca =  Ca_funtion(L,Cb,C2,C4)\n",
    "print('Ca = ',Ca)"
   ]
  },
  {
   "source": [
    "## Ra"
   ],
   "cell_type": "markdown",
   "metadata": {}
  },
  {
   "cell_type": "code",
   "execution_count": 82,
   "metadata": {},
   "outputs": [
    {
     "output_type": "stream",
     "name": "stdout",
     "text": [
      "Ra =  30890.71066341\n"
     ]
    }
   ],
   "source": [
    "def Ra_funtion(Dens_a_s,Vs,S,Ca):\n",
    "    Ra = 0.5 * Dens_a_s * (Vs ** 2) * S * Ca\n",
    "    return Ra\n",
    "\n",
    "Ra = Ra_funtion(Dens_a_s,Vs,S,Ca)\n",
    "print('Ra = ',Ra)"
   ]
  },
  {
   "source": [
    "# Rapp\n"
   ],
   "cell_type": "markdown",
   "metadata": {}
  },
  {
   "source": [
    "## Tabla de K_2 + 1"
   ],
   "cell_type": "markdown",
   "metadata": {}
  },
  {
   "cell_type": "code",
   "execution_count": 83,
   "metadata": {},
   "outputs": [],
   "source": [
    "na = np.nan\n",
    "tabla_K2_mas_1 = pd.DataFrame({'Apendices':['Rudder behind skeg', 'Rudder Behind stern', 'Twin-screw balance rudders', 'shaft brackets', 'Skeg', 'Strut bossings', 'hull bossings', 'Shafts', 'Stabilizer fins', 'Dome', 'Bilge keels'],'K2 + 1 min':[2,1.5,2.8,3,2,3,2,4,2.8,2.7,1.4]})\n",
    "#print(tabla_K2_mas_1)"
   ]
  },
  {
   "source": [
    "## K_mas_1 equivalente\n"
   ],
   "cell_type": "markdown",
   "metadata": {}
  },
  {
   "cell_type": "code",
   "execution_count": 84,
   "metadata": {},
   "outputs": [
    {
     "output_type": "stream",
     "name": "stdout",
     "text": [
      "K2 + 1 eq =  0\nSapp =  0\n"
     ]
    }
   ],
   "source": [
    "def K2_mas_1_eq_funtion(Sapp,tabla_K2_mas_1):\n",
    "    x = input(\"Ingrese la cantidad de apendices de la embarcación\")\n",
    "    x = int(x)\n",
    "    Sapp = 0\n",
    "    apendice = list(range(0,x))\n",
    "    Sapp_i = list(range(0,x))\n",
    "    K2_mas_1 = list(range(0,x))\n",
    "\n",
    "    if x == 0:\n",
    "        K2_mas_1_eq = 0\n",
    "    else:\n",
    "        apendice = list(range(0,x))\n",
    "        Sapp_i = list(range(0,x))\n",
    "        K2_mas_1 = list(range(0,x))\n",
    "        \n",
    "        print('\\n')\n",
    "        for i in list(range(0,x)):\n",
    "            print(tabla_K2_mas_1)\n",
    "            apendice[i]= int(input('ingrese el numero correspondiente al apendice en la tabla:\\n'))\n",
    "            Sapp_i[i] = float(input('ingrese el Area correspondiente al apendice [m]\\n'))\n",
    "            K2_mas_1[i] = tabla_K2_mas_1.iloc[apendice[i],1]\n",
    "            print('\\n \\n')\n",
    "        Numerador_1 = 0\n",
    "        Denominador_1 = 0\n",
    "        for i in list(range(0,x)):\n",
    "            Numerador_1 = K2_mas_1[i]*Sapp_i[i] + Numerador_1\n",
    "            Denominador_1 = Sapp_i[i] + Denominador_1\n",
    "\n",
    "        Sapp = Denominador_1\n",
    "        K2_mas_1_eq = Numerador_1 / Denominador_1   #resistencia sin Bow Thruster\n",
    "        #print(apendice)\n",
    "        #print(Sapp_i)\n",
    "        #print(K2_mas_1)\n",
    "    return K2_mas_1_eq, Sapp\n",
    "\n",
    "Tabla_aux2 = K2_mas_1_eq_funtion(Sapp,tabla_K2_mas_1)\n",
    "Sapp = Tabla_aux2[1]\n",
    "K2_mas_1_eq = Tabla_aux2[0]\n",
    "print('K2 + 1 eq = ',K2_mas_1_eq) \n",
    "print('Sapp = ',Sapp)"
   ]
  },
  {
   "source": [
    "##  Rapp = Rapp  + Rapp_bto"
   ],
   "cell_type": "markdown",
   "metadata": {}
  },
  {
   "cell_type": "code",
   "execution_count": 85,
   "metadata": {},
   "outputs": [
    {
     "output_type": "stream",
     "name": "stdout",
     "text": [
      "0.0\nRapp =  0.0\n"
     ]
    }
   ],
   "source": [
    "def Rapp_funtion(Dens_a_s,Vs,Sapp,K2_mas_1_eq,Cf):\n",
    "    Rapp_bt = Dens_a_s * Vs**2 * np.pi * d_bto**2 * C_bto\n",
    "    print(Rapp_bt)\n",
    "    Rapp_simple = 0.5 * Dens_a_s * (Vs**2) * Sapp * K2_mas_1_eq * Cf\n",
    "    Rapp = Rapp_simple + Rapp_bt\n",
    "    return Rapp\n",
    "Rapp = Rapp_funtion(Dens_a_s,Vs,Sapp,K2_mas_1_eq,Cf)\n",
    "print('Rapp = ',Rapp)"
   ]
  },
  {
   "source": [
    "# Resistencia total"
   ],
   "cell_type": "markdown",
   "metadata": {}
  },
  {
   "cell_type": "code",
   "execution_count": 86,
   "metadata": {},
   "outputs": [
    {
     "output_type": "stream",
     "name": "stdout",
     "text": [
      "K + 1 =  1.1481558321777088 , Rf =  87508.77521953957 ,\nRw =  104774.3528676393 , Rb =  824.6493953314874 , Rtr =  0.0 , Rapp =  0.0 , Ra =  30890.71066341\nRt =  236963.4235614233\n"
     ]
    }
   ],
   "source": [
    "def Rt_funtion(K_mas_1,Rf,Rw,Rb,Rtr,Rapp,Ra):\n",
    "    Rt = (K_mas_1)*Rf + Rw + Rb + Rtr + Rapp + Ra\n",
    "    return Rt\n",
    "Rt = Rt_funtion(K_mas_1,Rf,Rw,Rb,Rtr,Rapp,Ra)\n",
    "print('K + 1 = ', K_mas_1, ', Rf = ', Rf, ',')\n",
    "print('Rw = ', Rw, ', Rb = ', Rb, ', Rtr = ', Rtr, ', Rapp = ', Rapp, ', Ra = ', Ra)\n",
    "print('Rt = ', Rt)"
   ]
  },
  {
   "cell_type": "code",
   "execution_count": null,
   "metadata": {},
   "outputs": [],
   "source": []
  }
 ]
}